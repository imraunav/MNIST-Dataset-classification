{
  "nbformat": 4,
  "nbformat_minor": 0,
  "metadata": {
    "colab": {
      "provenance": [],
      "authorship_tag": "ABX9TyMTTRiDkibeaAwLtBhHmREo",
      "include_colab_link": true
    },
    "kernelspec": {
      "name": "python3",
      "display_name": "Python 3"
    },
    "language_info": {
      "name": "python"
    }
  },
  "cells": [
    {
      "cell_type": "markdown",
      "metadata": {
        "id": "view-in-github",
        "colab_type": "text"
      },
      "source": [
        "<a href=\"https://colab.research.google.com/github/imraunav/MNIST-Dataset-classification/blob/main/ExampleMNIST.ipynb\" target=\"_parent\"><img src=\"https://colab.research.google.com/assets/colab-badge.svg\" alt=\"Open In Colab\"/></a>"
      ]
    },
    {
      "cell_type": "code",
      "execution_count": 18,
      "metadata": {
        "id": "liU8WlGJO1Rf"
      },
      "outputs": [],
      "source": [
        "# from matplotlib import pyplot as plt\n",
        "# import tensorflow as tf\n",
        "\n",
        "# # import tensorflow_datasets as tfds # will learn to use this in the future\n",
        "# from tensorflow.keras.datasets import mnist\n",
        "# (train_images, train_labels), (test_images, test_labels) = mnist.load_data(path='/Users/raunavghosh/Documents/Research for Vehant/MNIST/MNIST-Dataset-classification/mnist.npz')\n",
        "\n",
        "# # Preprocessing\n",
        "# # normalizing all values\n",
        "# train_images = train_images/255.0\n",
        "# test_images = test_images/255.0\n",
        "\n",
        "# # convert all labels to one-hot notation\n",
        "# # trian_labels = tf.one_hot(train_labels, 10)\n",
        "# # test_labels = tf.one_hot(test_labels, 10)\n",
        "\n",
        "# # following the tutorial at: https://www.tensorflow.org/tutorials/images/cnn\n",
        "# from tensorflow.keras import models, layers\n",
        "\n",
        "# model = models.Sequential()\n",
        "# model.add(layers.Conv2D(32, (3, 3), activation='relu', input_shape=(32, 32, 3)))\n",
        "# model.add(layers.MaxPooling2D((2, 2)))\n",
        "# model.add(layers.Conv2D(64, (3, 3), activation='relu'))\n",
        "# model.add(layers.MaxPooling2D((2, 2)))\n",
        "# model.add(layers.Conv2D(64, (3, 3), activation='relu'))\n",
        "\n",
        "# # adding dense layers\n",
        "# model.add(layers.Flatten())\n",
        "# model.add(layers.Dense(64, activation='relu'))\n",
        "# model.add(layers.Dense(10))\n",
        "\n",
        "# # model summary\n",
        "# # model.summary()\n",
        "\n",
        "# model.compile(optimizer='adam',\n",
        "#               loss=tf.keras.losses.SparseCategoricalCrossentropy(from_logits=True),\n",
        "#               metrics=['accuracy'])\n",
        "\n",
        "# history = model.fit(train_images, train_labels, epochs=10, \n",
        "#                     validation_data=(test_images, test_labels))"
      ]
    },
    {
      "cell_type": "code",
      "source": [
        "import numpy as np\n",
        "from tensorflow import keras\n",
        "from tensorflow.keras import layers"
      ],
      "metadata": {
        "id": "QKPo5803PApm"
      },
      "execution_count": 19,
      "outputs": []
    },
    {
      "cell_type": "code",
      "source": [
        "num_classes = 10\n",
        "input_shape = (28, 28, 1)\n",
        "\n",
        "# Load the data and split it between train and test sets\n",
        "(x_train, y_train), (x_test, y_test) = keras.datasets.mnist.load_data()\n",
        "\n",
        "# Scale images to the [0, 1] range\n",
        "x_train = x_train.astype(\"float32\") / 255\n",
        "x_test = x_test.astype(\"float32\") / 255\n",
        "# Make sure images have shape (28, 28, 1)\n",
        "x_train = np.expand_dims(x_train, -1)\n",
        "x_test = np.expand_dims(x_test, -1)\n",
        "print(\"x_train shape:\", x_train.shape)\n",
        "print(x_train.shape[0], \"train samples\")\n",
        "print(x_test.shape[0], \"test samples\")"
      ],
      "metadata": {
        "colab": {
          "base_uri": "https://localhost:8080/"
        },
        "id": "xcLAbi0HPFiq",
        "outputId": "a2909ca4-670e-4aea-a9b4-12e23e6eed07"
      },
      "execution_count": 20,
      "outputs": [
        {
          "output_type": "stream",
          "name": "stdout",
          "text": [
            "x_train shape: (60000, 28, 28, 1)\n",
            "60000 train samples\n",
            "10000 test samples\n"
          ]
        }
      ]
    },
    {
      "cell_type": "code",
      "source": [
        "# convert class vectors to binary class matrices\n",
        "y_train = keras.utils.to_categorical(y_train, num_classes)\n",
        "y_test = keras.utils.to_categorical(y_test, num_classes)\n",
        "\n",
        "model = keras.Sequential(\n",
        "    [\n",
        "        keras.Input(shape=input_shape),\n",
        "        layers.Conv2D(32, kernel_size=(3, 3), activation=\"relu\"),\n",
        "        layers.MaxPooling2D(pool_size=(2, 2)),\n",
        "        layers.Conv2D(64, kernel_size=(3, 3), activation=\"relu\"),\n",
        "        layers.MaxPooling2D(pool_size=(2, 2)),\n",
        "        layers.Flatten(),\n",
        "        layers.Dropout(0.5),\n",
        "        layers.Dense(num_classes, activation=\"softmax\"),\n",
        "    ]\n",
        ")\n",
        "\n",
        "model.summary()"
      ],
      "metadata": {
        "colab": {
          "base_uri": "https://localhost:8080/"
        },
        "id": "yx4tb5KLPOu-",
        "outputId": "7188d102-0f4e-47e2-c123-6a3256150168"
      },
      "execution_count": 21,
      "outputs": [
        {
          "output_type": "stream",
          "name": "stdout",
          "text": [
            "Model: \"sequential_1\"\n",
            "_________________________________________________________________\n",
            " Layer (type)                Output Shape              Param #   \n",
            "=================================================================\n",
            " conv2d_2 (Conv2D)           (None, 26, 26, 32)        320       \n",
            "                                                                 \n",
            " max_pooling2d_2 (MaxPooling  (None, 13, 13, 32)       0         \n",
            " 2D)                                                             \n",
            "                                                                 \n",
            " conv2d_3 (Conv2D)           (None, 11, 11, 64)        18496     \n",
            "                                                                 \n",
            " max_pooling2d_3 (MaxPooling  (None, 5, 5, 64)         0         \n",
            " 2D)                                                             \n",
            "                                                                 \n",
            " flatten_1 (Flatten)         (None, 1600)              0         \n",
            "                                                                 \n",
            " dropout_1 (Dropout)         (None, 1600)              0         \n",
            "                                                                 \n",
            " dense_1 (Dense)             (None, 10)                16010     \n",
            "                                                                 \n",
            "=================================================================\n",
            "Total params: 34,826\n",
            "Trainable params: 34,826\n",
            "Non-trainable params: 0\n",
            "_________________________________________________________________\n"
          ]
        }
      ]
    },
    {
      "cell_type": "code",
      "source": [
        "batch_size = 1\n",
        "epochs = 15\n",
        "\n",
        "model.compile(loss=\"categorical_crossentropy\", optimizer=\"adam\", metrics=[\"accuracy\"])\n",
        "\n",
        "history = model.fit(x_train, y_train, batch_size=batch_size, epochs=epochs, validation_split=0.1)\n",
        "\n",
        "score = model.evaluate(x_test, y_test, verbose=0)\n",
        "print(\"Test loss:\", score[0])\n",
        "print(\"Test accuracy:\", score[1])"
      ],
      "metadata": {
        "colab": {
          "base_uri": "https://localhost:8080/"
        },
        "id": "m0OlYHn6PYGG",
        "outputId": "b49937d9-cb72-47e6-9f11-a5d4b2582b50"
      },
      "execution_count": 22,
      "outputs": [
        {
          "output_type": "stream",
          "name": "stdout",
          "text": [
            "Epoch 1/15\n",
            "54000/54000 [==============================] - 256s 5ms/step - loss: 0.1495 - accuracy: 0.9543 - val_loss: 0.0527 - val_accuracy: 0.9848\n",
            "Epoch 2/15\n",
            "54000/54000 [==============================] - 229s 4ms/step - loss: 0.0865 - accuracy: 0.9741 - val_loss: 0.0394 - val_accuracy: 0.9887\n",
            "Epoch 3/15\n",
            "54000/54000 [==============================] - 229s 4ms/step - loss: 0.0800 - accuracy: 0.9771 - val_loss: 0.0427 - val_accuracy: 0.9885\n",
            "Epoch 4/15\n",
            "54000/54000 [==============================] - 246s 5ms/step - loss: 0.0781 - accuracy: 0.9779 - val_loss: 0.0418 - val_accuracy: 0.9895\n",
            "Epoch 5/15\n",
            "54000/54000 [==============================] - 239s 4ms/step - loss: 0.0759 - accuracy: 0.9779 - val_loss: 0.0499 - val_accuracy: 0.9875\n",
            "Epoch 6/15\n",
            "54000/54000 [==============================] - 242s 4ms/step - loss: 0.0770 - accuracy: 0.9787 - val_loss: 0.0575 - val_accuracy: 0.9882\n",
            "Epoch 7/15\n",
            "54000/54000 [==============================] - 250s 5ms/step - loss: 0.0765 - accuracy: 0.9791 - val_loss: 0.0496 - val_accuracy: 0.9893\n",
            "Epoch 8/15\n",
            "54000/54000 [==============================] - 243s 5ms/step - loss: 0.0765 - accuracy: 0.9793 - val_loss: 0.0572 - val_accuracy: 0.9850\n",
            "Epoch 9/15\n",
            "54000/54000 [==============================] - 235s 4ms/step - loss: 0.0758 - accuracy: 0.9796 - val_loss: 0.0439 - val_accuracy: 0.9890\n",
            "Epoch 10/15\n",
            "54000/54000 [==============================] - 235s 4ms/step - loss: 0.0789 - accuracy: 0.9793 - val_loss: 0.0479 - val_accuracy: 0.9902\n",
            "Epoch 11/15\n",
            "54000/54000 [==============================] - 237s 4ms/step - loss: 0.0798 - accuracy: 0.9786 - val_loss: 0.0474 - val_accuracy: 0.9900\n",
            "Epoch 12/15\n",
            "54000/54000 [==============================] - 246s 5ms/step - loss: 0.0830 - accuracy: 0.9792 - val_loss: 0.0476 - val_accuracy: 0.9892\n",
            "Epoch 13/15\n",
            "54000/54000 [==============================] - 247s 5ms/step - loss: 0.0847 - accuracy: 0.9786 - val_loss: 0.0455 - val_accuracy: 0.9867\n",
            "Epoch 14/15\n",
            "54000/54000 [==============================] - 250s 5ms/step - loss: 0.0825 - accuracy: 0.9790 - val_loss: 0.0490 - val_accuracy: 0.9882\n",
            "Epoch 15/15\n",
            "54000/54000 [==============================] - 246s 5ms/step - loss: 0.0827 - accuracy: 0.9794 - val_loss: 0.0526 - val_accuracy: 0.9893\n",
            "Test loss: 0.0554053820669651\n",
            "Test accuracy: 0.9865000247955322\n"
          ]
        }
      ]
    },
    {
      "cell_type": "code",
      "source": [
        "from matplotlib import pyplot as plt\n",
        "plt.plot(history.history['loss'], label='model')\n",
        "plt.plot(history.history['val_loss'], label='validation')\n",
        "plt.xlabel('Epoch')\n",
        "plt.ylabel('Loss')\n",
        "plt.legend()"
      ],
      "metadata": {
        "colab": {
          "base_uri": "https://localhost:8080/",
          "height": 297
        },
        "id": "3ZK7Eg1yPffV",
        "outputId": "c8858437-cd99-49e1-da34-7278d9859d8f"
      },
      "execution_count": 23,
      "outputs": [
        {
          "output_type": "execute_result",
          "data": {
            "text/plain": [
              "<matplotlib.legend.Legend at 0x7ff45d0cf3a0>"
            ]
          },
          "metadata": {},
          "execution_count": 23
        },
        {
          "output_type": "display_data",
          "data": {
            "text/plain": [
              "<Figure size 432x288 with 1 Axes>"
            ],
            "image/png": "[encoded data removed]"
          },
          "metadata": {
            "needs_background": "light"
          }
        }
      ]
    },
    {
      "cell_type": "code",
      "source": [
        "plt.plot(history.history['accuracy'], label='model')\n",
        "plt.plot(history.history['val_accuracy'], label='validation')\n",
        "plt.xlabel('Epoch')\n",
        "plt.ylabel('Accuracy')\n",
        "plt.legend()"
      ],
      "metadata": {
        "colab": {
          "base_uri": "https://localhost:8080/",
          "height": 297
        },
        "id": "583wphUoSllD",
        "outputId": "25dd6aec-582e-448a-9273-d47f0a093288"
      },
      "execution_count": 24,
      "outputs": [
        {
          "output_type": "execute_result",
          "data": {
            "text/plain": [
              "<matplotlib.legend.Legend at 0x7ff45d091250>"
            ]
          },
          "metadata": {},
          "execution_count": 24
        },
        {
          "output_type": "display_data",
          "data": {
            "text/plain": [
              "<Figure size 432x288 with 1 Axes>"
            ],
            "image/png": "[encoded data removed]"
          },
          "metadata": {
            "needs_background": "light"
          }
        }
      ]
    },
    {
      "cell_type": "code",
      "source": [
        "model(x_test)"
      ],
      "metadata": {
        "colab": {
          "base_uri": "https://localhost:8080/"
        },
        "id": "zSMklw4LUEsI",
        "outputId": "33a556f3-a671-4b55-fab4-367cacad5583"
      },
      "execution_count": 25,
      "outputs": [
        {
          "output_type": "execute_result",
          "data": {
            "text/plain": [
              "<tf.Tensor: shape=(10000, 10), dtype=float32, numpy=\n",
              "array([[1.2276137e-19, 2.6516403e-21, 3.0453938e-11, ..., 9.9999994e-01,\n",
              "        8.9753894e-19, 6.3210201e-13],\n",
              "       [3.5074610e-11, 2.0730051e-09, 9.9999994e-01, ..., 5.1569769e-22,\n",
              "        1.9407054e-15, 1.4730815e-21],\n",
              "       [1.4986597e-11, 9.9999958e-01, 2.9040701e-09, ..., 9.1716110e-09,\n",
              "        4.4358939e-10, 2.4048484e-11],\n",
              "       ...,\n",
              "       [1.0273226e-27, 8.5567765e-17, 8.0770837e-23, ..., 8.5218562e-17,\n",
              "        7.8017447e-16, 1.8627733e-15],\n",
              "       [9.2785997e-15, 3.4716037e-24, 2.6242706e-20, ..., 1.6473356e-18,\n",
              "        9.8494874e-09, 5.7885432e-14],\n",
              "       [4.2587324e-08, 1.0028254e-16, 7.8084287e-07, ..., 3.6099249e-22,\n",
              "        3.9001758e-12, 2.3578618e-18]], dtype=float32)>"
            ]
          },
          "metadata": {},
          "execution_count": 25
        }
      ]
    },
    {
      "cell_type": "code",
      "source": [],
      "metadata": {
        "id": "_2eEQ7cSyoad"
      },
      "execution_count": null,
      "outputs": []
    }
  ]
}