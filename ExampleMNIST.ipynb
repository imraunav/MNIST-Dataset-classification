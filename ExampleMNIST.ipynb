{
  "cells": [
    {
      "cell_type": "code",
      "execution_count": 58,
      "metadata": {
        "id": "QKPo5803PApm"
      },
      "outputs": [],
      "source": [
        "import numpy as np\n",
        "from tensorflow import keras\n",
        "from tensorflow.keras import layers"
      ]
    },
    {
      "cell_type": "code",
      "execution_count": 59,
      "metadata": {
        "id": "zMQWxM94It2h",
        "outputId": "d8b8e384-cde5-4600-8121-a1b758bda5c2",
        "colab": {
          "base_uri": "https://localhost:8080/",
          "height": 35
        }
      },
      "outputs": [
        {
          "output_type": "execute_result",
          "data": {
            "text/plain": [
              "'2.11.0'"
            ],
            "application/vnd.google.colaboratory.intrinsic+json": {
              "type": "string"
            }
          },
          "metadata": {},
          "execution_count": 59
        }
      ],
      "source": [
        "import tensorflow as tf\n",
        "tf.__version__"
      ]
    },
    {
      "cell_type": "code",
      "execution_count": 60,
      "metadata": {
        "colab": {
          "base_uri": "https://localhost:8080/"
        },
        "id": "xcLAbi0HPFiq",
        "outputId": "47d4972a-5fe5-4073-f2e6-6ccbcd996782"
      },
      "outputs": [
        {
          "output_type": "stream",
          "name": "stdout",
          "text": [
            "x_train shape: (60000, 28, 28, 1)\n",
            "60000 train samples\n",
            "10000 test samples\n"
          ]
        }
      ],
      "source": [
        "num_classes = 10\n",
        "input_shape = (28, 28, 1)\n",
        "\n",
        "# Load the data and split it between train and test sets\n",
        "(x_train, y_train), (x_test, y_test) = keras.datasets.mnist.load_data()\n",
        "\n",
        "# Scale images to the [0, 1] range\n",
        "x_train = x_train.astype(\"float32\") / 255\n",
        "x_test = x_test.astype(\"float32\") / 255\n",
        "# Make sure images have shape (28, 28, 1)\n",
        "x_train = np.expand_dims(x_train, -1)\n",
        "x_test = np.expand_dims(x_test, -1)\n",
        "print(\"x_train shape:\", x_train.shape)\n",
        "print(x_train.shape[0], \"train samples\")\n",
        "print(x_test.shape[0], \"test samples\")"
      ]
    },
    {
      "cell_type": "code",
      "source": [
        "import skimage.io as io\n",
        "io.imshow(x_train[0]) "
      ],
      "metadata": {
        "id": "DiyA1uNVJEKh",
        "outputId": "033dff4d-b67f-4efd-8e49-d91cf840442b",
        "colab": {
          "base_uri": "https://localhost:8080/",
          "height": 315
        }
      },
      "execution_count": 61,
      "outputs": [
        {
          "output_type": "execute_result",
          "data": {
            "text/plain": [
              "<matplotlib.image.AxesImage at 0x7f5d2d1d8d90>"
            ]
          },
          "metadata": {},
          "execution_count": 61
        },
        {
          "output_type": "display_data",
          "data": {
            "text/plain": [
              "<Figure size 432x288 with 1 Axes>"
            ],
            "image/png": "[encoded data removed]"
          },
          "metadata": {
            "needs_background": "light"
          }
        }
      ]
    },
    {
      "cell_type": "code",
      "execution_count": 62,
      "metadata": {
        "colab": {
          "base_uri": "https://localhost:8080/"
        },
        "id": "yx4tb5KLPOu-",
        "outputId": "419bb3ae-785f-4479-8c40-0cce95fd932a"
      },
      "outputs": [
        {
          "output_type": "stream",
          "name": "stdout",
          "text": [
            "Model: \"sequential_10\"\n",
            "_________________________________________________________________\n",
            " Layer (type)                Output Shape              Param #   \n",
            "=================================================================\n",
            " conv2d_20 (Conv2D)          (None, 26, 26, 128)       1280      \n",
            "                                                                 \n",
            " max_pooling2d_20 (MaxPoolin  (None, 13, 13, 128)      0         \n",
            " g2D)                                                            \n",
            "                                                                 \n",
            " conv2d_21 (Conv2D)          (None, 11, 11, 32)        36896     \n",
            "                                                                 \n",
            " max_pooling2d_21 (MaxPoolin  (None, 5, 5, 32)         0         \n",
            " g2D)                                                            \n",
            "                                                                 \n",
            " flatten_10 (Flatten)        (None, 800)               0         \n",
            "                                                                 \n",
            " dropout_10 (Dropout)        (None, 800)               0         \n",
            "                                                                 \n",
            " dense_10 (Dense)            (None, 10)                8010      \n",
            "                                                                 \n",
            "=================================================================\n",
            "Total params: 46,186\n",
            "Trainable params: 46,186\n",
            "Non-trainable params: 0\n",
            "_________________________________________________________________\n"
          ]
        }
      ],
      "source": [
        "# convert class vectors to binary class matrices\n",
        "y_train = keras.utils.to_categorical(y_train, num_classes)\n",
        "y_test = keras.utils.to_categorical(y_test, num_classes)\n",
        "\n",
        "model = keras.Sequential(\n",
        "    [\n",
        "        keras.Input(shape=input_shape),\n",
        "        layers.Conv2D(128, kernel_size=(3, 3), activation=\"relu\"),\n",
        "        layers.MaxPooling2D(pool_size=(2, 2)),\n",
        "        layers.Conv2D(32, kernel_size=(3, 3), activation=\"relu\"),\n",
        "        layers.MaxPooling2D(pool_size=(2, 2)),\n",
        "        layers.Flatten(),\n",
        "        layers.Dropout(0.5),\n",
        "        layers.Dense(num_classes, activation=\"softmax\"),\n",
        "    ]\n",
        ")\n",
        "\n",
        "model.summary()"
      ]
    },
    {
      "cell_type": "code",
      "source": [
        "x_train.shape, y_train.shape"
      ],
      "metadata": {
        "id": "cj_tEBvEOxuY",
        "outputId": "ad7899a0-3867-44b1-affc-40bdf33f53c2",
        "colab": {
          "base_uri": "https://localhost:8080/"
        }
      },
      "execution_count": 63,
      "outputs": [
        {
          "output_type": "execute_result",
          "data": {
            "text/plain": [
              "((60000, 28, 28, 1), (60000, 10))"
            ]
          },
          "metadata": {},
          "execution_count": 63
        }
      ]
    },
    {
      "cell_type": "code",
      "execution_count": 64,
      "metadata": {
        "colab": {
          "base_uri": "https://localhost:8080/"
        },
        "id": "m0OlYHn6PYGG",
        "outputId": "2080cfda-b57b-4d3c-f9fe-83a055acefdb"
      },
      "outputs": [
        {
          "output_type": "stream",
          "name": "stdout",
          "text": [
            "Epoch 1/100\n",
            "375/375 [==============================] - 4s 8ms/step - loss: 0.4418 - accuracy: 0.8593 - val_loss: 0.1063 - val_accuracy: 0.9696\n",
            "Epoch 2/100\n",
            "375/375 [==============================] - 3s 8ms/step - loss: 0.1423 - accuracy: 0.9551 - val_loss: 0.0738 - val_accuracy: 0.9793\n",
            "Epoch 3/100\n",
            "375/375 [==============================] - 3s 9ms/step - loss: 0.1048 - accuracy: 0.9679 - val_loss: 0.0574 - val_accuracy: 0.9835\n",
            "Epoch 4/100\n",
            "375/375 [==============================] - 3s 7ms/step - loss: 0.0893 - accuracy: 0.9726 - val_loss: 0.0507 - val_accuracy: 0.9854\n",
            "Epoch 5/100\n",
            "375/375 [==============================] - 3s 7ms/step - loss: 0.0794 - accuracy: 0.9751 - val_loss: 0.0484 - val_accuracy: 0.9860\n",
            "Epoch 6/100\n",
            "375/375 [==============================] - 3s 8ms/step - loss: 0.0727 - accuracy: 0.9775 - val_loss: 0.0467 - val_accuracy: 0.9863\n",
            "Epoch 7/100\n",
            "375/375 [==============================] - 3s 7ms/step - loss: 0.0677 - accuracy: 0.9793 - val_loss: 0.0453 - val_accuracy: 0.9875\n",
            "Epoch 8/100\n",
            "375/375 [==============================] - 3s 7ms/step - loss: 0.0645 - accuracy: 0.9797 - val_loss: 0.0417 - val_accuracy: 0.9877\n",
            "Epoch 9/100\n",
            "375/375 [==============================] - 3s 7ms/step - loss: 0.0607 - accuracy: 0.9805 - val_loss: 0.0386 - val_accuracy: 0.9882\n",
            "Epoch 10/100\n",
            "375/375 [==============================] - 3s 8ms/step - loss: 0.0576 - accuracy: 0.9812 - val_loss: 0.0439 - val_accuracy: 0.9867\n",
            "Epoch 11/100\n",
            "375/375 [==============================] - 3s 7ms/step - loss: 0.0528 - accuracy: 0.9836 - val_loss: 0.0368 - val_accuracy: 0.9908\n",
            "Epoch 12/100\n",
            "375/375 [==============================] - 3s 7ms/step - loss: 0.0530 - accuracy: 0.9830 - val_loss: 0.0362 - val_accuracy: 0.9893\n",
            "Epoch 13/100\n",
            "375/375 [==============================] - 3s 7ms/step - loss: 0.0535 - accuracy: 0.9825 - val_loss: 0.0373 - val_accuracy: 0.9888\n",
            "Epoch 14/100\n",
            "375/375 [==============================] - 3s 8ms/step - loss: 0.0486 - accuracy: 0.9844 - val_loss: 0.0395 - val_accuracy: 0.9879\n",
            "Epoch 15/100\n",
            "375/375 [==============================] - 3s 8ms/step - loss: 0.0493 - accuracy: 0.9839 - val_loss: 0.0340 - val_accuracy: 0.9904\n",
            "Epoch 16/100\n",
            "375/375 [==============================] - 3s 7ms/step - loss: 0.0434 - accuracy: 0.9854 - val_loss: 0.0347 - val_accuracy: 0.9901\n",
            "Epoch 17/100\n",
            "375/375 [==============================] - 3s 7ms/step - loss: 0.0460 - accuracy: 0.9855 - val_loss: 0.0338 - val_accuracy: 0.9908\n",
            "Epoch 18/100\n",
            "375/375 [==============================] - 3s 7ms/step - loss: 0.0433 - accuracy: 0.9857 - val_loss: 0.0322 - val_accuracy: 0.9907\n",
            "Epoch 19/100\n",
            "375/375 [==============================] - 3s 9ms/step - loss: 0.0439 - accuracy: 0.9854 - val_loss: 0.0315 - val_accuracy: 0.9910\n",
            "Epoch 19: early stopping\n",
            "Test loss: 0.027724087238311768\n",
            "Test accuracy: 0.9902999997138977\n"
          ]
        }
      ],
      "source": [
        "batch_size = 128\n",
        "epochs = 100\n",
        "\n",
        "model.compile(loss=\"categorical_crossentropy\", optimizer=\"adam\", metrics=[\"accuracy\"])\n",
        "mycallbacks = [keras.callbacks.EarlyStopping(monitor='loss', min_delta=1e-4, patience=3, verbose=1),\n",
        "               keras.callbacks.EarlyStopping(monitor='val_loss', mode='min', patience=3, verbose=1, restore_best_weights=True)\n",
        "              ]\n",
        "history = model.fit(x_train, y_train,\n",
        "                    batch_size=batch_size, epochs=epochs,\n",
        "                    validation_split=0.2,\n",
        "                    callbacks=mycallbacks)\n",
        "\n",
        "score = model.evaluate(x_test, y_test, verbose=0)\n",
        "print(\"Test loss:\", score[0])\n",
        "print(\"Test accuracy:\", score[1])"
      ]
    },
    {
      "cell_type": "code",
      "execution_count": 65,
      "metadata": {
        "colab": {
          "base_uri": "https://localhost:8080/",
          "height": 297
        },
        "id": "3ZK7Eg1yPffV",
        "outputId": "7168d669-e27a-4b05-d4a5-1450381eb8b1"
      },
      "outputs": [
        {
          "output_type": "execute_result",
          "data": {
            "text/plain": [
              "<matplotlib.legend.Legend at 0x7f5d2882b340>"
            ]
          },
          "metadata": {},
          "execution_count": 65
        },
        {
          "output_type": "display_data",
          "data": {
            "text/plain": [
              "<Figure size 432x288 with 1 Axes>"
            ],
            "image/png": "[encoded data removed]"
          },
          "metadata": {
            "needs_background": "light"
          }
        }
      ],
      "source": [
        "from matplotlib import pyplot as plt\n",
        "plt.plot(history.history['loss'], label='model')\n",
        "plt.plot(history.history['val_loss'], label='validation')\n",
        "plt.xlabel('Epoch')\n",
        "plt.ylabel('Loss')\n",
        "plt.legend()"
      ]
    },
    {
      "cell_type": "code",
      "execution_count": 66,
      "metadata": {
        "colab": {
          "base_uri": "https://localhost:8080/",
          "height": 297
        },
        "id": "583wphUoSllD",
        "outputId": "6a2eb2af-e0ab-4a1d-e1d0-f634589f4a59"
      },
      "outputs": [
        {
          "output_type": "execute_result",
          "data": {
            "text/plain": [
              "<matplotlib.legend.Legend at 0x7f5d2777cc70>"
            ]
          },
          "metadata": {},
          "execution_count": 66
        },
        {
          "output_type": "display_data",
          "data": {
            "text/plain": [
              "<Figure size 432x288 with 1 Axes>"
            ],
            "image/png": "[encoded data removed]"
          },
          "metadata": {
            "needs_background": "light"
          }
        }
      ],
      "source": [
        "plt.plot(history.history['accuracy'], label='model')\n",
        "plt.plot(history.history['val_accuracy'], label='validation')\n",
        "plt.xlabel('Epoch')\n",
        "plt.ylabel('Accuracy')\n",
        "plt.legend()"
      ]
    },
    {
      "cell_type": "code",
      "execution_count": 66,
      "metadata": {
        "id": "_2eEQ7cSyoad"
      },
      "outputs": [],
      "source": []
    }
  ],
  "metadata": {
    "colab": {
      "provenance": []
    },
    "kernelspec": {
      "display_name": "Python 3 (ipykernel)",
      "language": "python",
      "name": "python3"
    },
    "language_info": {
      "codemirror_mode": {
        "name": "ipython",
        "version": 3
      },
      "file_extension": ".py",
      "mimetype": "text/x-python",
      "name": "python",
      "nbconvert_exporter": "python",
      "pygments_lexer": "ipython3",
      "version": "3.9.6"
    },
    "accelerator": "GPU",
    "gpuClass": "standard"
  },
  "nbformat": 4,
  "nbformat_minor": 0
}