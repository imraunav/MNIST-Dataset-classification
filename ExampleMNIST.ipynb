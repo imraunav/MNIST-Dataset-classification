{
  "cells": [
    {
      "cell_type": "markdown",
      "metadata": {
        "colab_type": "text",
        "id": "view-in-github"
      },
      "source": [
        "<a href=\"https://colab.research.google.com/github/imraunav/MNIST-Dataset-classification/blob/main/ExampleMNIST.ipynb\" target=\"_parent\"><img src=\"https://colab.research.google.com/assets/colab-badge.svg\" alt=\"Open In Colab\"/></a>"
      ]
    },
    {
      "cell_type": "code",
      "execution_count": 1,
      "metadata": {
        "id": "liU8WlGJO1Rf"
      },
      "outputs": [],
      "source": [
        "# from matplotlib import pyplot as plt\n",
        "# import tensorflow as tf\n",
        "\n",
        "# # import tensorflow_datasets as tfds # will learn to use this in the future\n",
        "# from tensorflow.keras.datasets import mnist\n",
        "# (train_images, train_labels), (test_images, test_labels) = mnist.load_data(path='/Users/raunavghosh/Documents/Research for Vehant/MNIST/MNIST-Dataset-classification/mnist.npz')\n",
        "\n",
        "# # Preprocessing\n",
        "# # normalizing all values\n",
        "# train_images = train_images/255.0\n",
        "# test_images = test_images/255.0\n",
        "\n",
        "# # convert all labels to one-hot notation\n",
        "# # trian_labels = tf.one_hot(train_labels, 10)\n",
        "# # test_labels = tf.one_hot(test_labels, 10)\n",
        "\n",
        "# # following the tutorial at: https://www.tensorflow.org/tutorials/images/cnn\n",
        "# from tensorflow.keras import models, layers\n",
        "\n",
        "# model = models.Sequential()\n",
        "# model.add(layers.Conv2D(32, (3, 3), activation='relu', input_shape=(32, 32, 3)))\n",
        "# model.add(layers.MaxPooling2D((2, 2)))\n",
        "# model.add(layers.Conv2D(64, (3, 3), activation='relu'))\n",
        "# model.add(layers.MaxPooling2D((2, 2)))\n",
        "# model.add(layers.Conv2D(64, (3, 3), activation='relu'))\n",
        "\n",
        "# # adding dense layers\n",
        "# model.add(layers.Flatten())\n",
        "# model.add(layers.Dense(64, activation='relu'))\n",
        "# model.add(layers.Dense(10))\n",
        "\n",
        "# # model summary\n",
        "# # model.summary()\n",
        "\n",
        "# model.compile(optimizer='adam',\n",
        "#               loss=tf.keras.losses.SparseCategoricalCrossentropy(from_logits=True),\n",
        "#               metrics=['accuracy'])\n",
        "\n",
        "# history = model.fit(train_images, train_labels, epochs=10, \n",
        "#                     validation_data=(test_images, test_labels))"
      ]
    },
    {
      "cell_type": "code",
      "execution_count": 2,
      "metadata": {
        "id": "QKPo5803PApm"
      },
      "outputs": [],
      "source": [
        "import numpy as np\n",
        "from tensorflow import keras\n",
        "from tensorflow.keras import layers"
      ]
    },
    {
      "cell_type": "code",
      "execution_count": 3,
      "metadata": {
        "colab": {
          "base_uri": "https://localhost:8080/"
        },
        "id": "xcLAbi0HPFiq",
        "outputId": "a2909ca4-670e-4aea-a9b4-12e23e6eed07"
      },
      "outputs": [
        {
          "name": "stdout",
          "output_type": "stream",
          "text": [
            "x_train shape: (60000, 28, 28, 1)\n",
            "60000 train samples\n",
            "10000 test samples\n"
          ]
        }
      ],
      "source": [
        "num_classes = 10\n",
        "input_shape = (28, 28, 1)\n",
        "\n",
        "# Load the data and split it between train and test sets\n",
        "(x_train, y_train), (x_test, y_test) = keras.datasets.mnist.load_data()\n",
        "\n",
        "# Scale images to the [0, 1] range\n",
        "x_train = x_train.astype(\"float32\") / 255\n",
        "x_test = x_test.astype(\"float32\") / 255\n",
        "# Make sure images have shape (28, 28, 1)\n",
        "x_train = np.expand_dims(x_train, -1)\n",
        "x_test = np.expand_dims(x_test, -1)\n",
        "print(\"x_train shape:\", x_train.shape)\n",
        "print(x_train.shape[0], \"train samples\")\n",
        "print(x_test.shape[0], \"test samples\")"
      ]
    },
    {
      "cell_type": "code",
      "execution_count": 4,
      "metadata": {
        "colab": {
          "base_uri": "https://localhost:8080/"
        },
        "id": "yx4tb5KLPOu-",
        "outputId": "7188d102-0f4e-47e2-c123-6a3256150168"
      },
      "outputs": [
        {
          "name": "stdout",
          "output_type": "stream",
          "text": [
            "Metal device set to: Apple M2\n",
            "\n",
            "systemMemory: 8.00 GB\n",
            "maxCacheSize: 2.67 GB\n",
            "\n",
            "Model: \"sequential\"\n",
            "_________________________________________________________________\n",
            " Layer (type)                Output Shape              Param #   \n",
            "=================================================================\n",
            " conv2d (Conv2D)             (None, 26, 26, 32)        320       \n",
            "                                                                 \n",
            " max_pooling2d (MaxPooling2D  (None, 13, 13, 32)       0         \n",
            " )                                                               \n",
            "                                                                 \n",
            " conv2d_1 (Conv2D)           (None, 11, 11, 64)        18496     \n",
            "                                                                 \n",
            " max_pooling2d_1 (MaxPooling  (None, 5, 5, 64)         0         \n",
            " 2D)                                                             \n",
            "                                                                 \n",
            " flatten (Flatten)           (None, 1600)              0         \n",
            "                                                                 \n",
            " dropout (Dropout)           (None, 1600)              0         \n",
            "                                                                 \n",
            " dense (Dense)               (None, 10)                16010     \n",
            "                                                                 \n",
            "=================================================================\n",
            "Total params: 34,826\n",
            "Trainable params: 34,826\n",
            "Non-trainable params: 0\n",
            "_________________________________________________________________\n"
          ]
        },
        {
          "name": "stderr",
          "output_type": "stream",
          "text": [
            "2023-03-12 22:46:19.565624: I tensorflow/core/common_runtime/pluggable_device/pluggable_device_factory.cc:305] Could not identify NUMA node of platform GPU ID 0, defaulting to 0. Your kernel may not have been built with NUMA support.\n",
            "2023-03-12 22:46:19.565711: I tensorflow/core/common_runtime/pluggable_device/pluggable_device_factory.cc:271] Created TensorFlow device (/job:localhost/replica:0/task:0/device:GPU:0 with 0 MB memory) -> physical PluggableDevice (device: 0, name: METAL, pci bus id: <undefined>)\n"
          ]
        }
      ],
      "source": [
        "# convert class vectors to binary class matrices\n",
        "y_train = keras.utils.to_categorical(y_train, num_classes)\n",
        "y_test = keras.utils.to_categorical(y_test, num_classes)\n",
        "\n",
        "model = keras.Sequential(\n",
        "    [\n",
        "        keras.Input(shape=input_shape),\n",
        "        layers.Conv2D(32, kernel_size=(3, 3), activation=\"relu\"),\n",
        "        layers.MaxPooling2D(pool_size=(2, 2)),\n",
        "        layers.Conv2D(64, kernel_size=(3, 3), activation=\"relu\"),\n",
        "        layers.MaxPooling2D(pool_size=(2, 2)),\n",
        "        layers.Flatten(),\n",
        "        layers.Dropout(0.5),\n",
        "        layers.Dense(num_classes, activation=\"softmax\"),\n",
        "    ]\n",
        ")\n",
        "\n",
        "model.summary()"
      ]
    },
    {
      "cell_type": "code",
      "execution_count": 5,
      "metadata": {
        "colab": {
          "base_uri": "https://localhost:8080/"
        },
        "id": "m0OlYHn6PYGG",
        "outputId": "b49937d9-cb72-47e6-9f11-a5d4b2582b50"
      },
      "outputs": [
        {
          "name": "stdout",
          "output_type": "stream",
          "text": [
            "Epoch 1/15\n"
          ]
        },
        {
          "name": "stderr",
          "output_type": "stream",
          "text": [
            "2023-03-12 22:46:19.744197: W tensorflow/core/platform/profile_utils/cpu_utils.cc:128] Failed to get CPU frequency: 0 Hz\n"
          ]
        },
        {
          "name": "stdout",
          "output_type": "stream",
          "text": [
            "  1/422 [..............................] - ETA: 2:56 - loss: 2.3080 - accuracy: 0.0781"
          ]
        },
        {
          "name": "stderr",
          "output_type": "stream",
          "text": [
            "2023-03-12 22:46:19.992874: I tensorflow/core/grappler/optimizers/custom_graph_optimizer_registry.cc:113] Plugin optimizer for device_type GPU is enabled.\n"
          ]
        },
        {
          "name": "stdout",
          "output_type": "stream",
          "text": [
            "422/422 [==============================] - ETA: 0s - loss: 0.3389 - accuracy: 0.9006"
          ]
        },
        {
          "name": "stderr",
          "output_type": "stream",
          "text": [
            "2023-03-12 22:46:26.911927: I tensorflow/core/grappler/optimizers/custom_graph_optimizer_registry.cc:113] Plugin optimizer for device_type GPU is enabled.\n"
          ]
        },
        {
          "name": "stdout",
          "output_type": "stream",
          "text": [
            "422/422 [==============================] - 8s 17ms/step - loss: 0.3389 - accuracy: 0.9006 - val_loss: 0.0812 - val_accuracy: 0.9768\n",
            "Epoch 2/15\n",
            "422/422 [==============================] - 7s 17ms/step - loss: 0.1022 - accuracy: 0.9686 - val_loss: 0.0600 - val_accuracy: 0.9823\n",
            "Epoch 3/15\n",
            "422/422 [==============================] - 7s 16ms/step - loss: 0.0786 - accuracy: 0.9764 - val_loss: 0.0483 - val_accuracy: 0.9862\n",
            "Epoch 4/15\n",
            "422/422 [==============================] - 7s 16ms/step - loss: 0.0669 - accuracy: 0.9793 - val_loss: 0.0446 - val_accuracy: 0.9873\n",
            "Epoch 5/15\n",
            "422/422 [==============================] - 7s 17ms/step - loss: 0.0569 - accuracy: 0.9826 - val_loss: 0.0408 - val_accuracy: 0.9892\n",
            "Epoch 6/15\n",
            "422/422 [==============================] - 7s 17ms/step - loss: 0.0521 - accuracy: 0.9837 - val_loss: 0.0382 - val_accuracy: 0.9905\n",
            "Epoch 7/15\n",
            "422/422 [==============================] - 7s 17ms/step - loss: 0.0484 - accuracy: 0.9849 - val_loss: 0.0364 - val_accuracy: 0.9898\n",
            "Epoch 8/15\n",
            "422/422 [==============================] - 7s 17ms/step - loss: 0.0440 - accuracy: 0.9859 - val_loss: 0.0364 - val_accuracy: 0.9905\n",
            "Epoch 9/15\n",
            "422/422 [==============================] - 7s 17ms/step - loss: 0.0428 - accuracy: 0.9867 - val_loss: 0.0325 - val_accuracy: 0.9912\n",
            "Epoch 10/15\n",
            "422/422 [==============================] - 7s 17ms/step - loss: 0.0386 - accuracy: 0.9874 - val_loss: 0.0349 - val_accuracy: 0.9908\n",
            "Epoch 11/15\n",
            "422/422 [==============================] - 7s 17ms/step - loss: 0.0357 - accuracy: 0.9887 - val_loss: 0.0335 - val_accuracy: 0.9898\n",
            "Epoch 12/15\n",
            "422/422 [==============================] - 7s 17ms/step - loss: 0.0330 - accuracy: 0.9896 - val_loss: 0.0313 - val_accuracy: 0.9917\n",
            "Epoch 13/15\n",
            "422/422 [==============================] - 7s 17ms/step - loss: 0.0328 - accuracy: 0.9900 - val_loss: 0.0316 - val_accuracy: 0.9910\n",
            "Epoch 14/15\n",
            "422/422 [==============================] - 7s 17ms/step - loss: 0.0306 - accuracy: 0.9906 - val_loss: 0.0289 - val_accuracy: 0.9913\n",
            "Epoch 15/15\n",
            "422/422 [==============================] - 7s 17ms/step - loss: 0.0306 - accuracy: 0.9901 - val_loss: 0.0297 - val_accuracy: 0.9922\n",
            "Test loss: 0.025672120973467827\n",
            "Test accuracy: 0.9915000200271606\n"
          ]
        }
      ],
      "source": [
        "batch_size = 128\n",
        "epochs = 15\n",
        "\n",
        "model.compile(loss=\"categorical_crossentropy\", optimizer=\"adam\", metrics=[\"accuracy\"])\n",
        "\n",
        "history = model.fit(x_train, y_train, batch_size=batch_size, epochs=epochs, validation_split=0.1)\n",
        "\n",
        "score = model.evaluate(x_test, y_test, verbose=0)\n",
        "print(\"Test loss:\", score[0])\n",
        "print(\"Test accuracy:\", score[1])"
      ]
    },
    {
      "cell_type": "code",
      "execution_count": 6,
      "metadata": {
        "colab": {
          "base_uri": "https://localhost:8080/",
          "height": 297
        },
        "id": "3ZK7Eg1yPffV",
        "outputId": "c8858437-cd99-49e1-da34-7278d9859d8f"
      },
      "outputs": [
        {
          "data": {
            "text/plain": [
              "<matplotlib.legend.Legend at 0x2d7670730>"
            ]
          },
          "execution_count": 6,
          "metadata": {},
          "output_type": "execute_result"
        },
        {
          "data": {
            "image/png": "[encoded data removed]",
            "text/plain": [
              "<Figure size 640x480 with 1 Axes>"
            ]
          },
          "metadata": {},
          "output_type": "display_data"
        }
      ],
      "source": [
        "from matplotlib import pyplot as plt\n",
        "plt.plot(history.history['loss'], label='model')\n",
        "plt.plot(history.history['val_loss'], label='validation')\n",
        "plt.xlabel('Epoch')\n",
        "plt.ylabel('Loss')\n",
        "plt.legend()"
      ]
    },
    {
      "cell_type": "code",
      "execution_count": 7,
      "metadata": {
        "colab": {
          "base_uri": "https://localhost:8080/",
          "height": 297
        },
        "id": "583wphUoSllD",
        "outputId": "25dd6aec-582e-448a-9273-d47f0a093288"
      },
      "outputs": [
        {
          "data": {
            "text/plain": [
              "<matplotlib.legend.Legend at 0x2d7706f70>"
            ]
          },
          "execution_count": 7,
          "metadata": {},
          "output_type": "execute_result"
        },
        {
          "data": {
            "image/png": "[encoded data removed]",
            "text/plain": [
              "<Figure size 640x480 with 1 Axes>"
            ]
          },
          "metadata": {},
          "output_type": "display_data"
        }
      ],
      "source": [
        "plt.plot(history.history['accuracy'], label='model')\n",
        "plt.plot(history.history['val_accuracy'], label='validation')\n",
        "plt.xlabel('Epoch')\n",
        "plt.ylabel('Accuracy')\n",
        "plt.legend()"
      ]
    },
    {
      "cell_type": "code",
      "execution_count": 8,
      "metadata": {
        "colab": {
          "base_uri": "https://localhost:8080/"
        },
        "id": "zSMklw4LUEsI",
        "outputId": "33a556f3-a671-4b55-fab4-367cacad5583"
      },
      "outputs": [
        {
          "data": {
            "text/plain": [
              "<tf.Tensor: shape=(10000, 10), dtype=float32, numpy=\n",
              "array([[4.2240608e-10, 2.3509381e-10, 3.8791993e-07, ..., 9.9999571e-01,\n",
              "        1.3644039e-09, 7.2269927e-08],\n",
              "       [3.0011547e-06, 7.7538465e-07, 9.9997592e-01, ..., 2.3326686e-12,\n",
              "        4.7598101e-07, 8.6009290e-12],\n",
              "       [2.8195183e-07, 9.9980778e-01, 4.0611067e-06, ..., 3.7512491e-05,\n",
              "        6.8769205e-06, 9.9557383e-07],\n",
              "       ...,\n",
              "       [1.2617775e-12, 4.5160774e-11, 2.8724432e-12, ..., 3.2440759e-08,\n",
              "        1.5505175e-07, 3.7658253e-08],\n",
              "       [1.1105279e-08, 1.5171454e-14, 1.1535680e-10, ..., 1.1133051e-12,\n",
              "        1.1017673e-04, 2.0014028e-09],\n",
              "       [8.6927720e-08, 1.6344053e-12, 4.5008125e-08, ..., 1.1064642e-12,\n",
              "        7.9855783e-07, 9.3785023e-12]], dtype=float32)>"
            ]
          },
          "execution_count": 8,
          "metadata": {},
          "output_type": "execute_result"
        }
      ],
      "source": [
        "model(x_test)"
      ]
    },
    {
      "cell_type": "code",
      "execution_count": null,
      "metadata": {
        "id": "_2eEQ7cSyoad"
      },
      "outputs": [],
      "source": []
    }
  ],
  "metadata": {
    "colab": {
      "authorship_tag": "ABX9TyMTTRiDkibeaAwLtBhHmREo",
      "include_colab_link": true,
      "provenance": []
    },
    "kernelspec": {
      "display_name": "Python 3 (ipykernel)",
      "language": "python",
      "name": "python3"
    },
    "language_info": {
      "codemirror_mode": {
        "name": "ipython",
        "version": 3
      },
      "file_extension": ".py",
      "mimetype": "text/x-python",
      "name": "python",
      "nbconvert_exporter": "python",
      "pygments_lexer": "ipython3",
      "version": "3.9.6"
    }
  },
  "nbformat": 4,
  "nbformat_minor": 0
}
