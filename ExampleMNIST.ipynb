{
  "nbformat": 4,
  "nbformat_minor": 0,
  "metadata": {
    "colab": {
      "provenance": [],
      "authorship_tag": "ABX9TyOaCnI6QFdfzluye5gd9wxe",
      "include_colab_link": true
    },
    "kernelspec": {
      "name": "python3",
      "display_name": "Python 3"
    },
    "language_info": {
      "name": "python"
    }
  },
  "cells": [
    {
      "cell_type": "markdown",
      "metadata": {
        "id": "view-in-github",
        "colab_type": "text"
      },
      "source": [
        "<a href=\"https://colab.research.google.com/github/imraunav/MNIST-Dataset-classification/blob/main/ExampleMNIST.ipynb\" target=\"_parent\"><img src=\"https://colab.research.google.com/assets/colab-badge.svg\" alt=\"Open In Colab\"/></a>"
      ]
    },
    {
      "cell_type": "code",
      "execution_count": 1,
      "metadata": {
        "id": "liU8WlGJO1Rf"
      },
      "outputs": [],
      "source": [
        "# from matplotlib import pyplot as plt\n",
        "# import tensorflow as tf\n",
        "\n",
        "# # import tensorflow_datasets as tfds # will learn to use this in the future\n",
        "# from tensorflow.keras.datasets import mnist\n",
        "# (train_images, train_labels), (test_images, test_labels) = mnist.load_data(path='/Users/raunavghosh/Documents/Research for Vehant/MNIST/MNIST-Dataset-classification/mnist.npz')\n",
        "\n",
        "# # Preprocessing\n",
        "# # normalizing all values\n",
        "# train_images = train_images/255.0\n",
        "# test_images = test_images/255.0\n",
        "\n",
        "# # convert all labels to one-hot notation\n",
        "# # trian_labels = tf.one_hot(train_labels, 10)\n",
        "# # test_labels = tf.one_hot(test_labels, 10)\n",
        "\n",
        "# # following the tutorial at: https://www.tensorflow.org/tutorials/images/cnn\n",
        "# from tensorflow.keras import models, layers\n",
        "\n",
        "# model = models.Sequential()\n",
        "# model.add(layers.Conv2D(32, (3, 3), activation='relu', input_shape=(32, 32, 3)))\n",
        "# model.add(layers.MaxPooling2D((2, 2)))\n",
        "# model.add(layers.Conv2D(64, (3, 3), activation='relu'))\n",
        "# model.add(layers.MaxPooling2D((2, 2)))\n",
        "# model.add(layers.Conv2D(64, (3, 3), activation='relu'))\n",
        "\n",
        "# # adding dense layers\n",
        "# model.add(layers.Flatten())\n",
        "# model.add(layers.Dense(64, activation='relu'))\n",
        "# model.add(layers.Dense(10))\n",
        "\n",
        "# # model summary\n",
        "# # model.summary()\n",
        "\n",
        "# model.compile(optimizer='adam',\n",
        "#               loss=tf.keras.losses.SparseCategoricalCrossentropy(from_logits=True),\n",
        "#               metrics=['accuracy'])\n",
        "\n",
        "# history = model.fit(train_images, train_labels, epochs=10, \n",
        "#                     validation_data=(test_images, test_labels))"
      ]
    },
    {
      "cell_type": "code",
      "source": [
        "import numpy as np\n",
        "from tensorflow import keras\n",
        "from tensorflow.keras import layers"
      ],
      "metadata": {
        "id": "QKPo5803PApm"
      },
      "execution_count": 2,
      "outputs": []
    },
    {
      "cell_type": "code",
      "source": [
        "num_classes = 10\n",
        "input_shape = (28, 28, 1)\n",
        "\n",
        "# Load the data and split it between train and test sets\n",
        "(x_train, y_train), (x_test, y_test) = keras.datasets.mnist.load_data()\n",
        "\n",
        "# Scale images to the [0, 1] range\n",
        "x_train = x_train.astype(\"float32\") / 255\n",
        "x_test = x_test.astype(\"float32\") / 255\n",
        "# Make sure images have shape (28, 28, 1)\n",
        "x_train = np.expand_dims(x_train, -1)\n",
        "x_test = np.expand_dims(x_test, -1)\n",
        "print(\"x_train shape:\", x_train.shape)\n",
        "print(x_train.shape[0], \"train samples\")\n",
        "print(x_test.shape[0], \"test samples\")"
      ],
      "metadata": {
        "colab": {
          "base_uri": "https://localhost:8080/"
        },
        "id": "xcLAbi0HPFiq",
        "outputId": "19b4d458-af6e-4056-99e0-275b54f8c5ba"
      },
      "execution_count": 3,
      "outputs": [
        {
          "output_type": "stream",
          "name": "stdout",
          "text": [
            "Downloading data from https://storage.googleapis.com/tensorflow/tf-keras-datasets/mnist.npz\n",
            "11490434/11490434 [==============================] - 0s 0us/step\n",
            "x_train shape: (60000, 28, 28, 1)\n",
            "60000 train samples\n",
            "10000 test samples\n"
          ]
        }
      ]
    },
    {
      "cell_type": "code",
      "source": [
        "# convert class vectors to binary class matrices\n",
        "y_train = keras.utils.to_categorical(y_train, num_classes)\n",
        "y_test = keras.utils.to_categorical(y_test, num_classes)\n",
        "\n",
        "model = keras.Sequential(\n",
        "    [\n",
        "        keras.Input(shape=input_shape),\n",
        "        layers.Conv2D(32, kernel_size=(3, 3), activation=\"relu\"),\n",
        "        layers.MaxPooling2D(pool_size=(2, 2)),\n",
        "        layers.Conv2D(64, kernel_size=(3, 3), activation=\"relu\"),\n",
        "        layers.MaxPooling2D(pool_size=(2, 2)),\n",
        "        layers.Flatten(),\n",
        "        layers.Dropout(0.5),\n",
        "        layers.Dense(num_classes, activation=\"softmax\"),\n",
        "    ]\n",
        ")\n",
        "\n",
        "model.summary()"
      ],
      "metadata": {
        "colab": {
          "base_uri": "https://localhost:8080/"
        },
        "id": "yx4tb5KLPOu-",
        "outputId": "6ca15ac3-4b96-4412-f0e2-b67b300f0072"
      },
      "execution_count": 4,
      "outputs": [
        {
          "output_type": "stream",
          "name": "stdout",
          "text": [
            "Model: \"sequential\"\n",
            "_________________________________________________________________\n",
            " Layer (type)                Output Shape              Param #   \n",
            "=================================================================\n",
            " conv2d (Conv2D)             (None, 26, 26, 32)        320       \n",
            "                                                                 \n",
            " max_pooling2d (MaxPooling2D  (None, 13, 13, 32)       0         \n",
            " )                                                               \n",
            "                                                                 \n",
            " conv2d_1 (Conv2D)           (None, 11, 11, 64)        18496     \n",
            "                                                                 \n",
            " max_pooling2d_1 (MaxPooling  (None, 5, 5, 64)         0         \n",
            " 2D)                                                             \n",
            "                                                                 \n",
            " flatten (Flatten)           (None, 1600)              0         \n",
            "                                                                 \n",
            " dropout (Dropout)           (None, 1600)              0         \n",
            "                                                                 \n",
            " dense (Dense)               (None, 10)                16010     \n",
            "                                                                 \n",
            "=================================================================\n",
            "Total params: 34,826\n",
            "Trainable params: 34,826\n",
            "Non-trainable params: 0\n",
            "_________________________________________________________________\n"
          ]
        }
      ]
    },
    {
      "cell_type": "code",
      "source": [
        "batch_size = 128\n",
        "epochs = 15\n",
        "\n",
        "model.compile(loss=\"categorical_crossentropy\", optimizer=\"adam\", metrics=[\"accuracy\"])\n",
        "\n",
        "history = model.fit(x_train, y_train, batch_size=batch_size, epochs=epochs, validation_split=0.1)\n",
        "\n",
        "score = model.evaluate(x_test, y_test, verbose=0)\n",
        "print(\"Test loss:\", score[0])\n",
        "print(\"Test accuracy:\", score[1])"
      ],
      "metadata": {
        "colab": {
          "base_uri": "https://localhost:8080/"
        },
        "id": "m0OlYHn6PYGG",
        "outputId": "2c111416-db7f-4d5a-a9d0-b7ff45648222"
      },
      "execution_count": 15,
      "outputs": [
        {
          "output_type": "stream",
          "name": "stdout",
          "text": [
            "Epoch 1/15\n",
            "422/422 [==============================] - 47s 111ms/step - loss: 0.0486 - accuracy: 0.9846 - val_loss: 0.0312 - val_accuracy: 0.9908\n",
            "Epoch 2/15\n",
            "422/422 [==============================] - 45s 106ms/step - loss: 0.0399 - accuracy: 0.9872 - val_loss: 0.0293 - val_accuracy: 0.9920\n",
            "Epoch 3/15\n",
            "422/422 [==============================] - 47s 111ms/step - loss: 0.0334 - accuracy: 0.9895 - val_loss: 0.0284 - val_accuracy: 0.9932\n",
            "Epoch 4/15\n",
            "422/422 [==============================] - 45s 106ms/step - loss: 0.0301 - accuracy: 0.9906 - val_loss: 0.0282 - val_accuracy: 0.9932\n",
            "Epoch 5/15\n",
            "422/422 [==============================] - 47s 113ms/step - loss: 0.0295 - accuracy: 0.9904 - val_loss: 0.0300 - val_accuracy: 0.9923\n",
            "Epoch 6/15\n",
            "422/422 [==============================] - 44s 105ms/step - loss: 0.0272 - accuracy: 0.9910 - val_loss: 0.0285 - val_accuracy: 0.9925\n",
            "Epoch 7/15\n",
            "422/422 [==============================] - 46s 109ms/step - loss: 0.0262 - accuracy: 0.9915 - val_loss: 0.0284 - val_accuracy: 0.9923\n",
            "Epoch 8/15\n",
            "422/422 [==============================] - 45s 107ms/step - loss: 0.0239 - accuracy: 0.9921 - val_loss: 0.0273 - val_accuracy: 0.9925\n",
            "Epoch 9/15\n",
            "422/422 [==============================] - 47s 110ms/step - loss: 0.0234 - accuracy: 0.9922 - val_loss: 0.0263 - val_accuracy: 0.9927\n",
            "Epoch 10/15\n",
            "422/422 [==============================] - 47s 113ms/step - loss: 0.0217 - accuracy: 0.9928 - val_loss: 0.0268 - val_accuracy: 0.9937\n",
            "Epoch 11/15\n",
            "422/422 [==============================] - 45s 107ms/step - loss: 0.0210 - accuracy: 0.9931 - val_loss: 0.0274 - val_accuracy: 0.9925\n",
            "Epoch 12/15\n",
            "422/422 [==============================] - 46s 109ms/step - loss: 0.0216 - accuracy: 0.9926 - val_loss: 0.0273 - val_accuracy: 0.9920\n",
            "Epoch 13/15\n",
            "422/422 [==============================] - 45s 106ms/step - loss: 0.0205 - accuracy: 0.9932 - val_loss: 0.0260 - val_accuracy: 0.9933\n",
            "Epoch 14/15\n",
            "422/422 [==============================] - 46s 109ms/step - loss: 0.0197 - accuracy: 0.9936 - val_loss: 0.0258 - val_accuracy: 0.9935\n",
            "Epoch 15/15\n",
            "422/422 [==============================] - 45s 107ms/step - loss: 0.0187 - accuracy: 0.9935 - val_loss: 0.0315 - val_accuracy: 0.9923\n",
            "Test loss: 0.021571187302470207\n",
            "Test accuracy: 0.9926000237464905\n"
          ]
        }
      ]
    },
    {
      "cell_type": "code",
      "source": [
        "from matplotlib import pyplot as plt\n",
        "plt.plot(history.history['loss'], label='model')\n",
        "plt.plot(history.history['val_loss'], label='validation')\n",
        "plt.xlabel('Epoch')\n",
        "plt.ylabel('Loss')\n",
        "plt.legend()"
      ],
      "metadata": {
        "colab": {
          "base_uri": "https://localhost:8080/",
          "height": 301
        },
        "id": "3ZK7Eg1yPffV",
        "outputId": "6e70f9e4-dfa7-441e-a429-c9106b975186"
      },
      "execution_count": 16,
      "outputs": [
        {
          "output_type": "execute_result",
          "data": {
            "text/plain": [
              "<matplotlib.legend.Legend at 0x7ff3ea38e730>"
            ]
          },
          "metadata": {},
          "execution_count": 16
        },
        {
          "output_type": "display_data",
          "data": {
            "text/plain": [
              "<Figure size 432x288 with 1 Axes>"
            ],
            "image/png": "[encoded data removed]"
          },
          "metadata": {
            "needs_background": "light"
          }
        }
      ]
    },
    {
      "cell_type": "code",
      "source": [
        "plt.plot(history.history['accuracy'], label='model')\n",
        "plt.plot(history.history['val_accuracy'], label='validation')\n",
        "plt.xlabel('Epoch')\n",
        "plt.ylabel('Accuracy')\n",
        "plt.legend()"
      ],
      "metadata": {
        "colab": {
          "base_uri": "https://localhost:8080/",
          "height": 299
        },
        "id": "583wphUoSllD",
        "outputId": "7d1eee9b-d483-44d1-fe72-6a07abd74f5e"
      },
      "execution_count": 17,
      "outputs": [
        {
          "output_type": "execute_result",
          "data": {
            "text/plain": [
              "<matplotlib.legend.Legend at 0x7ff3ed390220>"
            ]
          },
          "metadata": {},
          "execution_count": 17
        },
        {
          "output_type": "display_data",
          "data": {
            "text/plain": [
              "<Figure size 432x288 with 1 Axes>"
            ],
            "image/png": "[encoded data removed]"
          },
          "metadata": {
            "needs_background": "light"
          }
        }
      ]
    },
    {
      "cell_type": "code",
      "source": [],
      "metadata": {
        "id": "zSMklw4LUEsI"
      },
      "execution_count": 17,
      "outputs": []
    }
  ]
}